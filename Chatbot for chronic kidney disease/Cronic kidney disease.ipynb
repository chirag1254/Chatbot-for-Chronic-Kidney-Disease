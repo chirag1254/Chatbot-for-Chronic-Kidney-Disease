{
 "cells": [
  {
   "cell_type": "markdown",
   "metadata": {},
   "source": [
    "#CHRONIC DISEASE\n"
   ]
  },
  {
   "cell_type": "code",
   "execution_count": 1,
   "metadata": {},
   "outputs": [],
   "source": [
    "from newspaper import Article\n",
    "import random\n",
    "import string\n",
    "from sklearn.feature_extraction.text import TfidfVectorizer\n",
    "from sklearn.metrics.pairwise import cosine_similarity\n",
    "import nltk\n",
    "import numpy as np\n",
    "import warnings"
   ]
  },
  {
   "cell_type": "code",
   "execution_count": 2,
   "metadata": {},
   "outputs": [],
   "source": [
    "#Ignore any warning messages\n",
    "warnings.filterwarnings('ignore')"
   ]
  },
  {
   "cell_type": "code",
   "execution_count": 3,
   "metadata": {},
   "outputs": [
    {
     "data": {
      "text/plain": [
       "True"
      ]
     },
     "execution_count": 3,
     "metadata": {},
     "output_type": "execute_result"
    }
   ],
   "source": [
    "nltk.download('punkt' , quiet =True)\n",
    "nltk.download('wordnet' ,quiet = True)"
   ]
  },
  {
   "cell_type": "code",
   "execution_count": 4,
   "metadata": {},
   "outputs": [
    {
     "name": "stdout",
     "output_type": "stream",
     "text": [
      "None\n"
     ]
    }
   ],
   "source": [
    "#get the article URL\n",
    "article=Article('https://www.mayoclinic.org/diseases-conditions/chronic-kidney-disease/symptoms-causes/syc-20354521')\n",
    "article.download()\n",
    "article.parse()\n",
    "article.nlp()\n",
    "corpus = article.text\n",
    "# print (corpus)"
   ]
  },
  {
   "cell_type": "code",
   "execution_count": 5,
   "metadata": {},
   "outputs": [],
   "source": [
    "#TOkenization\n",
    "text = corpus\n",
    "sent_tokens = nltk.sent_tokenize(text)"
   ]
  },
  {
   "cell_type": "code",
   "execution_count": 6,
   "metadata": {},
   "outputs": [],
   "source": [
    "# creat a dictionary to remove punctuations\n",
    "remove_punct_dict = dict(  (ord(punct), None) for punct in string.punctuation)\n",
    "# print (string.punctuation)"
   ]
  },
  {
   "cell_type": "code",
   "execution_count": 7,
   "metadata": {},
   "outputs": [],
   "source": [
    "# print(remove_punct_dict)"
   ]
  },
  {
   "cell_type": "code",
   "execution_count": 8,
   "metadata": {},
   "outputs": [],
   "source": [
    "#creat a function to return a list of lemitionized lower case words after removing punctuations \n",
    "def LemNormalize(text):\n",
    "    return nltk.word_tokenize(text.lower().translate(remove_punct_dict))\n",
    "# print(LemNormalize(text))"
   ]
  },
  {
   "cell_type": "code",
   "execution_count": 9,
   "metadata": {},
   "outputs": [],
   "source": [
    "#keyword Matching\n",
    "#Greeting inputs\n",
    "GREETING_INPUTS = [\"hi\",\"hlo\",\"hola\",\"hello\", \"hey\" , \"whatsup\", \"wassup\",\"greetings\"]\n",
    "# greeting responsis\n",
    "GREETING_RESPONSES = [\"hi\",\"hey\",\"hello\",\"What's good\",\"hey there\"]\n",
    "\n",
    "def greetings(sentence):\n",
    "    for word in sentence.split():\n",
    "        if word.lower() in GREETING_INPUTS:\n",
    "            return random.choice(GREETING_RESPONSES)\n",
    "   "
   ]
  },
  {
   "cell_type": "code",
   "execution_count": 10,
   "metadata": {},
   "outputs": [],
   "source": [
    "#generate the responce\n",
    "def responce(user_responce):\n",
    "\n",
    "    \n",
    "    user_responce = user_responce.lower()\n",
    "    # print(user_responce)\n",
    "    #set the chatbot responce\n",
    "    robo_responce = ''\n",
    "    sent_tokens.append(user_responce)\n",
    "    # print(sent_tokens)\n",
    "    #creat Tfidf Vectorizer\n",
    "    TFidfVac = TfidfVectorizer(tokenizer = LemNormalize , stop_words='english')\n",
    "\n",
    "    #convert text to a metrix of Tfidf features\n",
    "    tfidf = TFidfVac.fit_transform(sent_tokens)\n",
    "    # print(tfidf)\n",
    "    #get most similerst score or text/sentance to user responce\n",
    "    vals = cosine_similarity(tfidf[-1],tfidf)\n",
    "    # print(vals)\n",
    "    # index of most simialr sentance\n",
    "    idx = vals.argsort()[0][-2]\n",
    "\n",
    "    #reduce Dimentionality of vals\n",
    "    flat = vals.flatten()\n",
    "\n",
    "    # sort the list in ascending order\n",
    "    flat.sort()\n",
    "\n",
    "    #get the most similar score\n",
    "    score= flat[-2]\n",
    "    # print(score)\n",
    "    # if variabe score is zero then no text similar to user responce\n",
    "    if score==0:\n",
    "        robo_responce = robo_responce + \"I apolozise,I don't understand\"\n",
    "    else:\n",
    "        robo_responce = robo_responce + sent_tokens[idx]\n",
    "\n",
    "    # print chatbot responces\n",
    "#     print(robo_responce)\n",
    "    sent_tokens.remove(user_responce)\n",
    "    return robo_responce\n",
    "\n"
   ]
  },
  {
   "cell_type": "code",
   "execution_count": 11,
   "metadata": {},
   "outputs": [
    {
     "name": "stdout",
     "output_type": "stream",
     "text": [
      "DOCBot : I am Doctor Bot or DOCBot.I will answer your queries about Chronic Kidney Disease. If you want to exit type 'Bye' or 'Thanks' or 'Thankyou' \n",
      "user : bye\n",
      "DOCBot : Chat with you later\n"
     ]
    }
   ],
   "source": [
    "flag = True\n",
    "print(\"DOCBot : I am Doctor Bot or DOCBot.I will answer your queries about Chronic Kidney Disease. If you want to exit type 'Bye' or 'Thanks' or 'Thankyou' \")\n",
    "while(flag ==True):\n",
    "    user_responce = input(\"user : \")\n",
    "    user_responce = user_responce.lower()\n",
    "    if user_responce != 'bye' :\n",
    "        if user_responce == 'thanks' or user_responce =='thank you':\n",
    "            flag =False\n",
    "            print(\"DOCBot : You are welcome !\")\n",
    "            speak(\"You are welcome !\")\n",
    "        else:\n",
    "            if greetings(user_responce) != None :\n",
    "                    print(\"DOCBot : \"+greetings(user_responce))\n",
    "                    \n",
    "            else:\n",
    "                    print(\"DOCBot : \"+responce(user_responce))\n",
    "                    \n",
    "    else:\n",
    "        flag=False\n",
    "        print(\"DOCBot : Chat with you later\")\n",
    "                "
   ]
  },
  {
   "cell_type": "code",
   "execution_count": null,
   "metadata": {},
   "outputs": [],
   "source": []
  }
 ],
 "metadata": {
  "kernelspec": {
   "display_name": "Python 3",
   "language": "python",
   "name": "python3"
  },
  "language_info": {
   "codemirror_mode": {
    "name": "ipython",
    "version": 3
   },
   "file_extension": ".py",
   "mimetype": "text/x-python",
   "name": "python",
   "nbconvert_exporter": "python",
   "pygments_lexer": "ipython3",
   "version": "3.7.6"
  }
 },
 "nbformat": 4,
 "nbformat_minor": 4
}
